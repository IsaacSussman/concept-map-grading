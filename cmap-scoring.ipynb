{
 "cells": [
  {
   "cell_type": "markdown",
   "metadata": {},
   "source": [
    "# Grading Concept Maps\n",
    "\n"
   ]
  },
  {
   "cell_type": "code",
   "execution_count": 1,
   "metadata": {},
   "outputs": [],
   "source": [
    "from cxlparser import Cxl\n",
    "import os"
   ]
  },
  {
   "cell_type": "markdown",
   "metadata": {},
   "source": []
  },
  {
   "cell_type": "code",
   "execution_count": 6,
   "metadata": {},
   "outputs": [
    {
     "data": {
      "text/plain": [
       "\"[{'1025199964517_2052719232_88749': {'id': '1025199964517_2052719232_88749', 'label': 'New Thermal\\\\nProtection\\\\nMaterials'}, '1025199964516_1734914570_88731': {'id': '1025199964516_1734914570_88731', 'label': 'Large\\\\nMass\\\\nSavings'}, '1025199964516_1162465490_88746': {'id': '1025199964516_1162465490_88746', 'label': 'Precision\\\\nNavigation'}, '1025199965040_1965542452_88771': {'id': '1025199965040_1965542452_88771', 'label': 'Lift\\\\nand\\\\nDrag'}, '1025199964515_760299010_88725': {'id': '1025199964515_760299010_88725', 'label': 'Atmospheric\\\\nFriction'}, '1025199964515_1069581212_88728': {'id': '1025199964515_1069581212_88728', 'label': 'Mature\\\\nTechnology'}, '1025199965040_195193567_88765': {'id': '1025199965040_195193567_88765', 'label': 'Under\\\\nDevelopment'}, '1025199964515_175867949_88716': {'id': '1025199964515_175867949_88716', 'label': 'Transportation\\\\nTechnology'}, '1025199965041_197751053_88783': {'id': '1025199965041_197751053_88783', 'label': 'Mars\\\\nAeroCapture'}, '1025199964516_970860494_88743': {'id': '1025199964516_970860494_88743', 'label': 'Planetary\\\\nAtmosphere'}, '1025199965042_438713004_88798': {'id': '1025199965042_438713004_88798', 'label': 'Intense\\\\nHeating'}, '1025199965041_1283782617_88774': {'id': '1025199965041_1283782617_88774', 'label': 'Blunt\\\\nCones'}, '1025199965042_1371563938_88795': {'id': '1025199965042_1371563938_88795', 'label': 'Efficient\\\\nPackaging\\\\nof Lander\\\\nSpacecraft'}, '1025199964515_1269215288_88719': {'id': '1025199964515_1269215288_88719', 'label': 'Deceleration\\\\nat Target\\\\nPlanet'}, '1025199964514_1215838555_88712': {'id': '1025199964514_1215838555_88712', 'label': 'AeroCapture'}, '1025199964516_825534569_88737': {'id': '1025199964516_825534569_88737', 'label': 'Human\\\\nExploration'}, '1025199965041_2114602225_88777': {'id': '1025199965041_2114602225_88777', 'label': 'Cylinder\\\\nwith\\\\nConical\\\\nNose'}, '1025199965042_805893164_88801': {'id': '1025199965042_805893164_88801', 'label': 'Atmospheric\\\\nFriction'}, '1025199964515_818621787_88722': {'id': '1025199964515_818621787_88722', 'label': 'Rocket\\\\nPropulsion'}, '1025199964516_921060494_88734': {'id': '1025199964516_921060494_88734', 'label': 'Enabling\\\\nTechnology'}, '1025199965039_1251511648_88762': {'id': '1025199965039_1251511648_88762', 'label': 'Lightweight'}, '1025199964516_72099356_88740': {'id': '1025199964516_72099356_88740', 'label': 'Direct\\\\nEntry'}, '1025199965040_1288690581_88768': {'id': '1025199965040_1288690581_88768', 'label': 'Aero\\\\nEntry\\\\nVehicle\\\\nShapes'}, '1025199965041_1229374672_88789': {'id': '1025199965041_1229374672_88789', 'label': 'Propellant'}, '1025199965042_1838150805_88792': {'id': '1025199965042_1838150805_88792', 'label': 'Maneuverability\\\\n&  Targeting'}, '1025199965041_1074343803_88780': {'id': '1025199965041_1074343803_88780', 'label': 'Apollo\\\\nEarth\\\\nRe-entry'}, '1025199965041_1817994446_88786': {'id': '1025199965041_1817994446_88786', 'label': 'Interplanetary\\\\nTrajectory'}}]\""
      ]
     },
     "execution_count": 6,
     "metadata": {},
     "output_type": "execute_result"
    }
   ],
   "source": [
    "paths = [\"cmaps/AeroCapture.cxl\", \"cmaps/Bacterial Characteristics.cxl\"]\n",
    "expert_path = \"cmaps/AeroCapture.cxl\"\n",
    "fuzzy = False\n",
    "parsed_cmaps = [Cxl(i, fuzzy, os.path.basename(i)) for i in paths]\n",
    "expert_cmap = Cxl(expert_path, fuzzy, os.path.basename(expert_path))\n",
    "for i in  range(len(parsed_cmaps)):\n",
    "    parsed_cmaps[i].parse_map()\n",
    "[str(i) for i in parsed_cmaps]\n",
    "str([parsed_cmaps[0].concepts_by_id])\n",
    "\n"
   ]
  },
  {
   "cell_type": "code",
   "execution_count": null,
   "metadata": {},
   "outputs": [],
   "source": [
    "# DENSITY SCORE\n"
   ]
  }
 ],
 "metadata": {
  "kernelspec": {
   "display_name": "Python 3 (ipykernel)",
   "language": "python",
   "name": "python3"
  },
  "language_info": {
   "codemirror_mode": {
    "name": "ipython",
    "version": 3
   },
   "file_extension": ".py",
   "mimetype": "text/x-python",
   "name": "python",
   "nbconvert_exporter": "python",
   "pygments_lexer": "ipython3",
   "version": "3.9.6"
  }
 },
 "nbformat": 4,
 "nbformat_minor": 4
}
